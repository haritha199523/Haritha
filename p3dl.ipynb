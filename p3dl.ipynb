{
 "cells": [
  {
   "cell_type": "code",
   "execution_count": null,
   "id": "9037d0fd",
   "metadata": {},
   "outputs": [],
   "source": [
    "file=r'C:\\Users\\Admin\\Downloads\\p3DL\\P3 Quora Text Classification with embeddings\\train.csv'"
   ]
  },
  {
   "cell_type": "code",
   "execution_count": null,
   "id": "20a9e7c1",
   "metadata": {},
   "outputs": [],
   "source": [
    "import pandas as pd\n",
    "import numpy as np"
   ]
  },
  {
   "cell_type": "code",
   "execution_count": null,
   "id": "f67f8a4b",
   "metadata": {},
   "outputs": [],
   "source": [
    "pdl=pd.read_csv(file)"
   ]
  },
  {
   "cell_type": "code",
   "execution_count": null,
   "id": "34bf7d71",
   "metadata": {},
   "outputs": [],
   "source": [
    "pdl.head()"
   ]
  },
  {
   "cell_type": "code",
   "execution_count": null,
   "id": "b7aca448",
   "metadata": {},
   "outputs": [],
   "source": [
    "pdl.tail()"
   ]
  },
  {
   "cell_type": "code",
   "execution_count": null,
   "id": "04d8e8d7",
   "metadata": {},
   "outputs": [],
   "source": [
    "embedding_index={}\n",
    "\n",
    "f=open(r'C:\\Users\\Admin\\Downloads\\p3DL\\glove.840B.300d\\glove.840B.300d.txt',encoding='utf-8')\n",
    "\n",
    "\n",
    "for line in f:\n",
    "    values=line.split()\n",
    "    word=values[0]\n",
    "\n",
    "    wts=np.asarray(values[1:],dtype='float32')\n",
    "\n",
    "    embedding_index[word]=wts\n",
    "\n",
    "f.close()\n"
   ]
  },
  {
   "cell_type": "code",
   "execution_count": null,
   "id": "8694def7",
   "metadata": {},
   "outputs": [],
   "source": [
    "print('Found %s word vectors.' % len(embeddings_index))"
   ]
  },
  {
   "cell_type": "code",
   "execution_count": null,
   "id": "74d0eebe",
   "metadata": {},
   "outputs": [],
   "source": [
    "from sklearn.model_selection import train_test_split\n",
    "pdl_train,pdl_test=train_test_split(pdl,test_size=0.2)"
   ]
  },
  {
   "cell_type": "code",
   "execution_count": null,
   "id": "0a6554f2",
   "metadata": {},
   "outputs": [],
   "source": [
    "x_train=pdl_train[\"question_text\"]\n",
    "y_train=pdl_train[\"target\"]\n",
    "x_test=pdl_test[\"question_text\"]\n",
    "y_test=pdl_test[\"target\"]"
   ]
  },
  {
   "cell_type": "code",
   "execution_count": null,
   "id": "1c95a1c4",
   "metadata": {},
   "outputs": [],
   "source": [
    "from tensorflow.keras.preprocessing.text import Tokenizer\n",
    "from tensorflow.keras.preprocessing import sequence\n",
    "from tensorflow.keras.layers import LSTM, Dense, Input , Embedding,Dropout\n",
    "from tensorflow.keras.models import Model"
   ]
  },
  {
   "cell_type": "code",
   "execution_count": null,
   "id": "4cc73205",
   "metadata": {},
   "outputs": [],
   "source": [
    "max_len=40\n",
    "\n",
    "tk=Tokenizer(char_level=False,split=' ')\n",
    "\n",
    "tk.fit_on_texts(x_train)\n"
   ]
  },
  {
   "cell_type": "code",
   "execution_count": null,
   "id": "82cbc169",
   "metadata": {},
   "outputs": [],
   "source": [
    "vocab_size=len(tk.word_index)\n",
    "vocab_size"
   ]
  },
  {
   "cell_type": "code",
   "execution_count": null,
   "id": "5ee8098e",
   "metadata": {},
   "outputs": [],
   "source": [
    "seq_train=tk.texts_to_sequences(x_train)\n",
    "seq_test=tk.texts_to_matrix(x_test)"
   ]
  },
  {
   "cell_type": "code",
   "execution_count": null,
   "id": "a6412ef2",
   "metadata": {},
   "outputs": [],
   "source": [
    "seq_train_matrix=sequence.pad_sequences(seq_train,maxlen=max_len)\n",
    "seq_test_matrix=sequence.pad_sequences(seq_test,maxlen=max_len)"
   ]
  },
  {
   "cell_type": "code",
   "execution_count": null,
   "id": "496b0261",
   "metadata": {},
   "outputs": [],
   "source": [
    "embedding_matrix=np.zeros((vocab_size+1,100))"
   ]
  },
  {
   "cell_type": "code",
   "execution_count": null,
   "id": "23584e88",
   "metadata": {},
   "outputs": [],
   "source": [
    "for word,i in tk.word_index.items():\n",
    "    embed_vector=embedding_index.get(word)\n",
    "\n",
    "    if embed_vector is not None:\n",
    "        embedding_matrix[i]=embed_vector\n",
    "    if embed_vector is None:\n",
    "        print(word)"
   ]
  },
  {
   "cell_type": "code",
   "execution_count": null,
   "id": "238ad507",
   "metadata": {},
   "outputs": [],
   "source": [
    "inputs=Input(name='review',shape=[max_len])\n",
    "embed=Embedding(vocab_size+1,100,input_length=max_len,mask_zero=True,\n",
    "                weights=[embedding_matrix],trainable=False)(inputs)\n",
    "\n",
    "lstm_layer=LSTM(100)(embed)\n",
    "\n",
    "dense1=Dense(10,activation='relu')(lstm_layer)\n",
    "dr1=Dropout(0.2)(dense1)\n",
    "\n",
    "final_layer=Dense(1,activation='sigmoid')(dr1)\n",
    "\n",
    "model=Model(inputs=inputs,outputs=final_layer)"
   ]
  },
  {
   "cell_type": "code",
   "execution_count": null,
   "id": "3a155650",
   "metadata": {},
   "outputs": [],
   "source": [
    "model.summary()"
   ]
  },
  {
   "cell_type": "code",
   "execution_count": null,
   "id": "a3249e95",
   "metadata": {},
   "outputs": [],
   "source": [
    "model.compile(optimizer='adam',loss='binary_crossentropy',metrics=['accuracy'])"
   ]
  },
  {
   "cell_type": "code",
   "execution_count": null,
   "id": "f8855c62",
   "metadata": {},
   "outputs": [],
   "source": [
    "model.fit(seq_train_matrix,y_train,validation_data=[seq_test_matrix,y_test],\n",
    "          epochs=10,batch_size=1000)"
   ]
  }
 ],
 "metadata": {
  "kernelspec": {
   "display_name": "Python 3",
   "language": "python",
   "name": "python3"
  },
  "language_info": {
   "codemirror_mode": {
    "name": "ipython",
    "version": 3
   },
   "file_extension": ".py",
   "mimetype": "text/x-python",
   "name": "python",
   "nbconvert_exporter": "python",
   "pygments_lexer": "ipython3",
   "version": "3.8.8"
  }
 },
 "nbformat": 4,
 "nbformat_minor": 5
}
